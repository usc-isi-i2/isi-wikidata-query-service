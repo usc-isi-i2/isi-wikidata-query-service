{
 "cells": [
  {
   "cell_type": "markdown",
   "metadata": {},
   "source": [
    "# ISI's Wikidata Query Service Demo"
   ]
  },
  {
   "cell_type": "code",
   "execution_count": 11,
   "metadata": {},
   "outputs": [],
   "source": [
    "import json\n",
    "from requests import get"
   ]
  },
  {
   "cell_type": "code",
   "execution_count": 12,
   "metadata": {},
   "outputs": [],
   "source": [
    "url = 'http://localhost:7884'"
   ]
  },
  {
   "cell_type": "markdown",
   "metadata": {},
   "source": [
    "**Search for term `apple` and return top 5 results**\n",
    "\n",
    "/search/\\<search term\\>?size=\\<num\\>"
   ]
  },
  {
   "cell_type": "code",
   "execution_count": 17,
   "metadata": {},
   "outputs": [
    {
     "name": "stdout",
     "output_type": "stream",
     "text": [
      "[\n",
      "  {\n",
      "    \"qnode\": \"Q312\",\n",
      "    \"description\": [\n",
      "      \"Empresa multinacional tecnol\\u00f3gica estadounidense\"\n",
      "    ]\n",
      "  },\n",
      "  {\n",
      "    \"qnode\": \"Q621347\",\n",
      "    \"description\": [\n",
      "      \"r\\u00edo en Estados Unidos\"\n",
      "    ]\n",
      "  },\n",
      "  {\n",
      "    \"qnode\": \"Q26944932\",\n",
      "    \"description\": [\n",
      "      \"apellido\"\n",
      "    ]\n",
      "  },\n",
      "  {\n",
      "    \"qnode\": \"Q16274912\",\n",
      "    \"description\": [\n",
      "      \"name: given name and surname\"\n",
      "    ]\n",
      "  },\n",
      "  {\n",
      "    \"qnode\": \"Q26944931\",\n",
      "    \"description\": [\n",
      "      \"nombre\"\n",
      "    ]\n",
      "  }\n",
      "]\n"
     ]
    }
   ],
   "source": [
    "result = get(f'{url}/api/apple?size=5&language=es')\n",
    "print(json.dumps(result.json(), indent=2))"
   ]
  },
  {
   "cell_type": "markdown",
   "metadata": {},
   "source": [
    "**Search for term `apple` and case sensitive match**\n",
    "\n",
    "/search/\\<search term\\>?lowercase=false"
   ]
  },
  {
   "cell_type": "code",
   "execution_count": 14,
   "metadata": {},
   "outputs": [
    {
     "name": "stdout",
     "output_type": "stream",
     "text": [
      "[\n",
      "  {\n",
      "    \"qnode\": \"Q89\",\n",
      "    \"description\": [\n",
      "      \"fruit of the apple tree\"\n",
      "    ]\n",
      "  },\n",
      "  {\n",
      "    \"qnode\": \"Q62474609\",\n",
      "    \"description\": [\n",
      "      \"type of wood\"\n",
      "    ]\n",
      "  },\n",
      "  {\n",
      "    \"qnode\": \"Q1519207\",\n",
      "    \"description\": [\n",
      "      \"heraldic figure\"\n",
      "    ]\n",
      "  }\n",
      "]\n"
     ]
    }
   ],
   "source": [
    "result = get(f'{url}/api/apple?size=5&lowercase=false')\n",
    "print(json.dumps(result.json(), indent=2))"
   ]
  },
  {
   "cell_type": "markdown",
   "metadata": {},
   "source": [
    "**Search for term `apple` and return `labels`, `aliases` and `pagerank` as well**\n",
    "\n",
    "/search/\\<search term\\>?extra_info=true"
   ]
  },
  {
   "cell_type": "code",
   "execution_count": 19,
   "metadata": {},
   "outputs": [
    {
     "name": "stdout",
     "output_type": "stream",
     "text": [
      "[\n",
      "  {\n",
      "    \"qnode\": \"Q312\",\n",
      "    \"description\": [\n",
      "      \"American multinational technology company\"\n",
      "    ],\n",
      "    \"label\": [\n",
      "      \"Apple Inc.\"\n",
      "    ],\n",
      "    \"alias\": [\n",
      "      \"Apple Computer\",\n",
      "      \"Apple Computer, Inc.\",\n",
      "      \"Apple Computer Inc\",\n",
      "      \"Apple Incorporated\",\n",
      "      \"Apple Computer Incorporated\",\n",
      "      \"Apple\",\n",
      "      \"\\uf8ff\"\n",
      "    ],\n",
      "    \"pagerank\": 3.451312816255285e-05\n",
      "  },\n",
      "  {\n",
      "    \"qnode\": \"Q89\",\n",
      "    \"description\": [\n",
      "      \"fruit of the apple tree\"\n",
      "    ],\n",
      "    \"label\": [\n",
      "      \"apple\"\n",
      "    ],\n",
      "    \"alias\": [\n",
      "      \"apples\"\n",
      "    ],\n",
      "    \"pagerank\": 1.8559747423482135e-06\n",
      "  },\n",
      "  {\n",
      "    \"qnode\": \"Q213710\",\n",
      "    \"description\": [\n",
      "      \"UK international record label; imprint of Apple Corps Ltd.\"\n",
      "    ],\n",
      "    \"label\": [\n",
      "      \"Apple\"\n",
      "    ],\n",
      "    \"alias\": [\n",
      "      \"Apple Records\",\n",
      "      \"LC 1074\",\n",
      "      \"LC 01074\"\n",
      "    ],\n",
      "    \"pagerank\": 6.786126121211227e-07\n",
      "  },\n",
      "  {\n",
      "    \"qnode\": \"Q621347\",\n",
      "    \"description\": [\n",
      "      \"river in the United States of America\"\n",
      "    ],\n",
      "    \"label\": [\n",
      "      \"Apple\"\n",
      "    ],\n",
      "    \"alias\": [\n",
      "      \"Apple River\"\n",
      "    ],\n",
      "    \"pagerank\": 3.0619269127782033e-07\n",
      "  },\n",
      "  {\n",
      "    \"qnode\": \"Q26944932\",\n",
      "    \"description\": [\n",
      "      \"family name\"\n",
      "    ],\n",
      "    \"label\": [\n",
      "      \"Apple\"\n",
      "    ],\n",
      "    \"alias\": [\n",
      "      \"Apple\"\n",
      "    ],\n",
      "    \"pagerank\": 1.3566479223002651e-08\n",
      "  },\n",
      "  {\n",
      "    \"qnode\": \"Q16274912\",\n",
      "    \"description\": [\n",
      "      \"name: given name and surname\"\n",
      "    ],\n",
      "    \"label\": [\n",
      "      \"Apple\"\n",
      "    ],\n",
      "    \"alias\": [],\n",
      "    \"pagerank\": 8.233650261020977e-09\n",
      "  },\n",
      "  {\n",
      "    \"qnode\": \"Q26944931\",\n",
      "    \"description\": [\n",
      "      \"given name\"\n",
      "    ],\n",
      "    \"label\": [\n",
      "      \"Apple\"\n",
      "    ],\n",
      "    \"alias\": [],\n",
      "    \"pagerank\": 8.532329920293853e-09\n",
      "  },\n",
      "  {\n",
      "    \"qnode\": \"Q62474609\",\n",
      "    \"description\": [\n",
      "      \"type of wood\"\n",
      "    ],\n",
      "    \"label\": [\n",
      "      \"apple\"\n",
      "    ],\n",
      "    \"alias\": [\n",
      "      \"apple wood\"\n",
      "    ],\n",
      "    \"pagerank\": 6.193315508266375e-09\n",
      "  },\n",
      "  {\n",
      "    \"qnode\": \"Q1519207\",\n",
      "    \"description\": [\n",
      "      \"heraldic figure\"\n",
      "    ],\n",
      "    \"label\": [\n",
      "      \"apple\"\n",
      "    ],\n",
      "    \"alias\": [],\n",
      "    \"pagerank\": 6.1289479613745596e-09\n",
      "  },\n",
      "  {\n",
      "    \"qnode\": \"Q96984443\",\n",
      "    \"description\": [\n",
      "      \"2020 single by GFriend\"\n",
      "    ],\n",
      "    \"label\": [\n",
      "      \"Apple\"\n",
      "    ],\n",
      "    \"alias\": [],\n",
      "    \"pagerank\": 5.263736834723374e-09\n",
      "  }\n",
      "]\n"
     ]
    }
   ],
   "source": [
    "result = get(f'{url}/api/apple?size=10&language=en&extra_info=true')\n",
    "print(json.dumps(result.json(), indent=2))"
   ]
  },
  {
   "cell_type": "code",
   "execution_count": null,
   "metadata": {},
   "outputs": [],
   "source": []
  }
 ],
 "metadata": {
  "kernelspec": {
   "display_name": "service_env",
   "language": "python",
   "name": "service_env"
  },
  "language_info": {
   "codemirror_mode": {
    "name": "ipython",
    "version": 3
   },
   "file_extension": ".py",
   "mimetype": "text/x-python",
   "name": "python",
   "nbconvert_exporter": "python",
   "pygments_lexer": "ipython3",
   "version": "3.6.6"
  }
 },
 "nbformat": 4,
 "nbformat_minor": 4
}
